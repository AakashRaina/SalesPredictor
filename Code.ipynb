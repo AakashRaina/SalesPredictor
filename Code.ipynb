{
 "cells": [
  {
   "cell_type": "code",
   "execution_count": 45,
   "metadata": {
    "collapsed": false
   },
   "outputs": [
    {
     "data": {
      "text/html": [
       "<div>\n",
       "<table border=\"1\" class=\"dataframe\">\n",
       "  <thead>\n",
       "    <tr style=\"text-align: right;\">\n",
       "      <th></th>\n",
       "      <th>Item_Identifier</th>\n",
       "      <th>Item_Weight</th>\n",
       "      <th>Item_Fat_Content</th>\n",
       "      <th>Item_Visibility</th>\n",
       "      <th>Item_Type</th>\n",
       "      <th>Item_MRP</th>\n",
       "      <th>Outlet_Identifier</th>\n",
       "      <th>Outlet_Establishment_Year</th>\n",
       "      <th>Outlet_Size</th>\n",
       "      <th>Outlet_Location_Type</th>\n",
       "      <th>Outlet_Type</th>\n",
       "      <th>Item_Outlet_Sales</th>\n",
       "    </tr>\n",
       "  </thead>\n",
       "  <tbody>\n",
       "    <tr>\n",
       "      <th>0</th>\n",
       "      <td>FDA15</td>\n",
       "      <td>9.300</td>\n",
       "      <td>Low Fat</td>\n",
       "      <td>0.016047</td>\n",
       "      <td>Dairy</td>\n",
       "      <td>249.8092</td>\n",
       "      <td>OUT049</td>\n",
       "      <td>1999</td>\n",
       "      <td>Medium</td>\n",
       "      <td>Tier 1</td>\n",
       "      <td>Supermarket Type1</td>\n",
       "      <td>3735.1380</td>\n",
       "    </tr>\n",
       "    <tr>\n",
       "      <th>1</th>\n",
       "      <td>DRC01</td>\n",
       "      <td>5.920</td>\n",
       "      <td>Regular</td>\n",
       "      <td>0.019278</td>\n",
       "      <td>Soft Drinks</td>\n",
       "      <td>48.2692</td>\n",
       "      <td>OUT018</td>\n",
       "      <td>2009</td>\n",
       "      <td>Medium</td>\n",
       "      <td>Tier 3</td>\n",
       "      <td>Supermarket Type2</td>\n",
       "      <td>443.4228</td>\n",
       "    </tr>\n",
       "    <tr>\n",
       "      <th>2</th>\n",
       "      <td>FDN15</td>\n",
       "      <td>17.500</td>\n",
       "      <td>Low Fat</td>\n",
       "      <td>0.016760</td>\n",
       "      <td>Meat</td>\n",
       "      <td>141.6180</td>\n",
       "      <td>OUT049</td>\n",
       "      <td>1999</td>\n",
       "      <td>Medium</td>\n",
       "      <td>Tier 1</td>\n",
       "      <td>Supermarket Type1</td>\n",
       "      <td>2097.2700</td>\n",
       "    </tr>\n",
       "    <tr>\n",
       "      <th>3</th>\n",
       "      <td>FDX07</td>\n",
       "      <td>19.200</td>\n",
       "      <td>Regular</td>\n",
       "      <td>0.000000</td>\n",
       "      <td>Fruits and Vegetables</td>\n",
       "      <td>182.0950</td>\n",
       "      <td>OUT010</td>\n",
       "      <td>1998</td>\n",
       "      <td>NaN</td>\n",
       "      <td>Tier 3</td>\n",
       "      <td>Grocery Store</td>\n",
       "      <td>732.3800</td>\n",
       "    </tr>\n",
       "    <tr>\n",
       "      <th>4</th>\n",
       "      <td>NCD19</td>\n",
       "      <td>8.930</td>\n",
       "      <td>Low Fat</td>\n",
       "      <td>0.000000</td>\n",
       "      <td>Household</td>\n",
       "      <td>53.8614</td>\n",
       "      <td>OUT013</td>\n",
       "      <td>1987</td>\n",
       "      <td>High</td>\n",
       "      <td>Tier 3</td>\n",
       "      <td>Supermarket Type1</td>\n",
       "      <td>994.7052</td>\n",
       "    </tr>\n",
       "    <tr>\n",
       "      <th>5</th>\n",
       "      <td>FDP36</td>\n",
       "      <td>10.395</td>\n",
       "      <td>Regular</td>\n",
       "      <td>0.000000</td>\n",
       "      <td>Baking Goods</td>\n",
       "      <td>51.4008</td>\n",
       "      <td>OUT018</td>\n",
       "      <td>2009</td>\n",
       "      <td>Medium</td>\n",
       "      <td>Tier 3</td>\n",
       "      <td>Supermarket Type2</td>\n",
       "      <td>556.6088</td>\n",
       "    </tr>\n",
       "    <tr>\n",
       "      <th>6</th>\n",
       "      <td>FDO10</td>\n",
       "      <td>13.650</td>\n",
       "      <td>Regular</td>\n",
       "      <td>0.012741</td>\n",
       "      <td>Snack Foods</td>\n",
       "      <td>57.6588</td>\n",
       "      <td>OUT013</td>\n",
       "      <td>1987</td>\n",
       "      <td>High</td>\n",
       "      <td>Tier 3</td>\n",
       "      <td>Supermarket Type1</td>\n",
       "      <td>343.5528</td>\n",
       "    </tr>\n",
       "    <tr>\n",
       "      <th>7</th>\n",
       "      <td>FDP10</td>\n",
       "      <td>NaN</td>\n",
       "      <td>Low Fat</td>\n",
       "      <td>0.127470</td>\n",
       "      <td>Snack Foods</td>\n",
       "      <td>107.7622</td>\n",
       "      <td>OUT027</td>\n",
       "      <td>1985</td>\n",
       "      <td>Medium</td>\n",
       "      <td>Tier 3</td>\n",
       "      <td>Supermarket Type3</td>\n",
       "      <td>4022.7636</td>\n",
       "    </tr>\n",
       "    <tr>\n",
       "      <th>8</th>\n",
       "      <td>FDH17</td>\n",
       "      <td>16.200</td>\n",
       "      <td>Regular</td>\n",
       "      <td>0.016687</td>\n",
       "      <td>Frozen Foods</td>\n",
       "      <td>96.9726</td>\n",
       "      <td>OUT045</td>\n",
       "      <td>2002</td>\n",
       "      <td>NaN</td>\n",
       "      <td>Tier 2</td>\n",
       "      <td>Supermarket Type1</td>\n",
       "      <td>1076.5986</td>\n",
       "    </tr>\n",
       "    <tr>\n",
       "      <th>9</th>\n",
       "      <td>FDU28</td>\n",
       "      <td>19.200</td>\n",
       "      <td>Regular</td>\n",
       "      <td>0.094450</td>\n",
       "      <td>Frozen Foods</td>\n",
       "      <td>187.8214</td>\n",
       "      <td>OUT017</td>\n",
       "      <td>2007</td>\n",
       "      <td>NaN</td>\n",
       "      <td>Tier 2</td>\n",
       "      <td>Supermarket Type1</td>\n",
       "      <td>4710.5350</td>\n",
       "    </tr>\n",
       "  </tbody>\n",
       "</table>\n",
       "</div>"
      ],
      "text/plain": [
       "  Item_Identifier  Item_Weight Item_Fat_Content  Item_Visibility  \\\n",
       "0           FDA15        9.300          Low Fat         0.016047   \n",
       "1           DRC01        5.920          Regular         0.019278   \n",
       "2           FDN15       17.500          Low Fat         0.016760   \n",
       "3           FDX07       19.200          Regular         0.000000   \n",
       "4           NCD19        8.930          Low Fat         0.000000   \n",
       "5           FDP36       10.395          Regular         0.000000   \n",
       "6           FDO10       13.650          Regular         0.012741   \n",
       "7           FDP10          NaN          Low Fat         0.127470   \n",
       "8           FDH17       16.200          Regular         0.016687   \n",
       "9           FDU28       19.200          Regular         0.094450   \n",
       "\n",
       "               Item_Type  Item_MRP Outlet_Identifier  \\\n",
       "0                  Dairy  249.8092            OUT049   \n",
       "1            Soft Drinks   48.2692            OUT018   \n",
       "2                   Meat  141.6180            OUT049   \n",
       "3  Fruits and Vegetables  182.0950            OUT010   \n",
       "4              Household   53.8614            OUT013   \n",
       "5           Baking Goods   51.4008            OUT018   \n",
       "6            Snack Foods   57.6588            OUT013   \n",
       "7            Snack Foods  107.7622            OUT027   \n",
       "8           Frozen Foods   96.9726            OUT045   \n",
       "9           Frozen Foods  187.8214            OUT017   \n",
       "\n",
       "   Outlet_Establishment_Year Outlet_Size Outlet_Location_Type  \\\n",
       "0                       1999      Medium               Tier 1   \n",
       "1                       2009      Medium               Tier 3   \n",
       "2                       1999      Medium               Tier 1   \n",
       "3                       1998         NaN               Tier 3   \n",
       "4                       1987        High               Tier 3   \n",
       "5                       2009      Medium               Tier 3   \n",
       "6                       1987        High               Tier 3   \n",
       "7                       1985      Medium               Tier 3   \n",
       "8                       2002         NaN               Tier 2   \n",
       "9                       2007         NaN               Tier 2   \n",
       "\n",
       "         Outlet_Type  Item_Outlet_Sales  \n",
       "0  Supermarket Type1          3735.1380  \n",
       "1  Supermarket Type2           443.4228  \n",
       "2  Supermarket Type1          2097.2700  \n",
       "3      Grocery Store           732.3800  \n",
       "4  Supermarket Type1           994.7052  \n",
       "5  Supermarket Type2           556.6088  \n",
       "6  Supermarket Type1           343.5528  \n",
       "7  Supermarket Type3          4022.7636  \n",
       "8  Supermarket Type1          1076.5986  \n",
       "9  Supermarket Type1          4710.5350  "
      ]
     },
     "execution_count": 45,
     "metadata": {},
     "output_type": "execute_result"
    }
   ],
   "source": [
    "import pandas as pd\n",
    "import numpy as np\n",
    "import seaborn as sns\n",
    "import matplotlib.pyplot as plt\n",
    "from matplotlib import pyplot\n",
    "%matplotlib inline\n",
    "import warnings \n",
    "warnings.filterwarnings('ignore')\n",
    "import sklearn\n",
    "from sklearn.preprocessing import LabelEncoder\n",
    "le = LabelEncoder()\n",
    "\n",
    "df_train = pd.read_csv(\"Train.csv\")\n",
    "df_test = pd.read_csv(\"Test.csv\")\n",
    "\n",
    "df_train.head(10)"
   ]
  },
  {
   "cell_type": "code",
   "execution_count": 46,
   "metadata": {
    "collapsed": false
   },
   "outputs": [
    {
     "name": "stdout",
     "output_type": "stream",
     "text": [
      "       Item_Weight  Item_Visibility     Item_MRP  Outlet_Establishment_Year  \\\n",
      "count  7060.000000      8523.000000  8523.000000                8523.000000   \n",
      "mean     12.857645         0.066132   140.992782                1997.831867   \n",
      "std       4.643456         0.051598    62.275067                   8.371760   \n",
      "min       4.555000         0.000000    31.290000                1985.000000   \n",
      "25%       8.773750         0.026989    93.826500                1987.000000   \n",
      "50%      12.600000         0.053931   143.012800                1999.000000   \n",
      "75%      16.850000         0.094585   185.643700                2004.000000   \n",
      "max      21.350000         0.328391   266.888400                2009.000000   \n",
      "\n",
      "       Item_Outlet_Sales  \n",
      "count        8523.000000  \n",
      "mean         2181.288914  \n",
      "std          1706.499616  \n",
      "min            33.290000  \n",
      "25%           834.247400  \n",
      "50%          1794.331000  \n",
      "75%          3101.296400  \n",
      "max         13086.964800  \n",
      "\n",
      "Item_Identifier               object\n",
      "Item_Weight                  float64\n",
      "Item_Fat_Content              object\n",
      "Item_Visibility              float64\n",
      "Item_Type                     object\n",
      "Item_MRP                     float64\n",
      "Outlet_Identifier             object\n",
      "Outlet_Establishment_Year      int64\n",
      "Outlet_Size                   object\n",
      "Outlet_Location_Type          object\n",
      "Outlet_Type                   object\n",
      "Item_Outlet_Sales            float64\n",
      "dtype: object\n",
      "\n",
      "Nan Columns ['Item_Weight', 'Outlet_Size']\n"
     ]
    }
   ],
   "source": [
    "print(df_train.describe())\n",
    "print()\n",
    "print(df_train.dtypes)\n",
    "print()\n",
    "# For string columns,whether they have NaN or not \n",
    "l =  df_train.columns[df_train.isnull().any()].tolist()\n",
    "print(\"Nan Columns \" + str(l))"
   ]
  },
  {
   "cell_type": "code",
   "execution_count": 47,
   "metadata": {
    "collapsed": false
   },
   "outputs": [
    {
     "name": "stdout",
     "output_type": "stream",
     "text": [
      "Frequency of Categories for varible Item_Fat_Content\n",
      "Low Fat    5089\n",
      "Regular    2889\n",
      "LF          316\n",
      "reg         117\n",
      "low fat     112\n",
      "Name: Item_Fat_Content, dtype: int64\n",
      "\n",
      "Frequency of Categories for varible Item_Type\n",
      "Fruits and Vegetables    1232\n",
      "Snack Foods              1200\n",
      "Household                 910\n",
      "Frozen Foods              856\n",
      "Dairy                     682\n",
      "Canned                    649\n",
      "Baking Goods              648\n",
      "Health and Hygiene        520\n",
      "Soft Drinks               445\n",
      "Meat                      425\n",
      "Breads                    251\n",
      "Hard Drinks               214\n",
      "Others                    169\n",
      "Starchy Foods             148\n",
      "Breakfast                 110\n",
      "Seafood                    64\n",
      "Name: Item_Type, dtype: int64\n",
      "\n",
      "Frequency of Categories for varible Outlet_Size\n",
      "Medium    2793\n",
      "Small     2388\n",
      "High       932\n",
      "Name: Outlet_Size, dtype: int64\n",
      "\n",
      "Frequency of Categories for varible Outlet_Location_Type\n",
      "Tier 3    3350\n",
      "Tier 2    2785\n",
      "Tier 1    2388\n",
      "Name: Outlet_Location_Type, dtype: int64\n",
      "\n",
      "Frequency of Categories for varible Outlet_Type\n",
      "Supermarket Type1    5577\n",
      "Grocery Store        1083\n",
      "Supermarket Type3     935\n",
      "Supermarket Type2     928\n",
      "Name: Outlet_Type, dtype: int64\n",
      "\n"
     ]
    }
   ],
   "source": [
    "# Frequency Distribution for categorical variables \n",
    "categorical_columns = [x for x in df_train.dtypes.index if df_train.dtypes[x]=='object']\n",
    "categorical_columns = [x for x in categorical_columns if x not in ['Item_Identifier','Outlet_Identifier']]\n",
    "\n",
    "for col in categorical_columns:\n",
    "    print(\"Frequency of Categories for varible \" + str(col))\n",
    "    print(df_train[col].value_counts())\n",
    "    print()"
   ]
  },
  {
   "cell_type": "code",
   "execution_count": 48,
   "metadata": {
    "collapsed": false
   },
   "outputs": [
    {
     "name": "stdout",
     "output_type": "stream",
     "text": [
      "       Item_Weight  Item_Visibility     Item_MRP  Outlet_Establishment_Year\n",
      "count  4705.000000      5681.000000  5681.000000                5681.000000\n",
      "mean     12.695633         0.065684   141.023273                1997.828903\n",
      "std       4.664849         0.051252    61.809091                   8.372256\n",
      "min       4.555000         0.000000    31.990000                1985.000000\n",
      "25%       8.645000         0.027047    94.412000                1987.000000\n",
      "50%      12.500000         0.054154   141.415400                1999.000000\n",
      "75%      16.700000         0.093463   186.026600                2004.000000\n",
      "max      21.350000         0.323637   266.588400                2009.000000\n",
      "\n",
      "Item_Identifier               object\n",
      "Item_Weight                  float64\n",
      "Item_Fat_Content              object\n",
      "Item_Visibility              float64\n",
      "Item_Type                     object\n",
      "Item_MRP                     float64\n",
      "Outlet_Identifier             object\n",
      "Outlet_Establishment_Year      int64\n",
      "Outlet_Size                   object\n",
      "Outlet_Location_Type          object\n",
      "Outlet_Type                   object\n",
      "dtype: object\n",
      "\n",
      "Nan Columns ['Item_Weight', 'Outlet_Size']\n"
     ]
    }
   ],
   "source": [
    "print(df_test.describe())\n",
    "print()\n",
    "print(df_test.dtypes)\n",
    "print()\n",
    "# For string columns,whether they have NaN or not \n",
    "l =  df_test.columns[df_test.isnull().any()].tolist()\n",
    "print(\"Nan Columns \" + str(l))\n",
    "# df_test"
   ]
  },
  {
   "cell_type": "code",
   "execution_count": 49,
   "metadata": {
    "collapsed": false
   },
   "outputs": [
    {
     "data": {
      "text/plain": [
       "Outlet_Type\n",
       "Grocery Store         339.828500\n",
       "Supermarket Type1    2316.181148\n",
       "Supermarket Type2    1995.498739\n",
       "Supermarket Type3    3694.038558\n",
       "Name: Item_Outlet_Sales, dtype: float64"
      ]
     },
     "execution_count": 49,
     "metadata": {},
     "output_type": "execute_result"
    }
   ],
   "source": [
    "df_train.pivot_table(values='Item_Outlet_Sales',index='Outlet_Type')"
   ]
  },
  {
   "cell_type": "code",
   "execution_count": 50,
   "metadata": {
    "collapsed": false
   },
   "outputs": [
    {
     "name": "stdout",
     "output_type": "stream",
     "text": [
      "526\n",
      "0\n"
     ]
    }
   ],
   "source": [
    "# # Item_Visibility has 0 min value, wrong!! impute \n",
    "# earlier_count = 0\n",
    "# later_count = 0\n",
    "# for value in df_train['Item_Visibility']:\n",
    "#     if value == 0:\n",
    "#         earlier_count+=1;\n",
    "        \n",
    "# print(count)\n",
    "\n",
    "# def fill(x):\n",
    "#     if x==0:\n",
    "#         return df_train_new['Item_Visibility'].mean()\n",
    "    \n",
    "# df_train['Item_Visibility'] = df_train['Item_Visibility'].apply(fill)\n",
    "# df_test['Item_Visibility'] = df_test['Item_Visibility'].apply(fill)\n",
    "\n",
    "# for value in df_train['Item_Visibility']:\n",
    "#     if value == 0:\n",
    "#         later_count+=1;\n",
    "        \n",
    "# print(later_count)\n",
    "# # print(df_train)\n",
    "\n",
    "visibility_avg = df_train.pivot_table(values='Item_Visibility', index='Item_Identifier')\n",
    "# print(visibility_avg)\n",
    "#Impute 0 values with mean visibility of that product:\n",
    "miss_bool = (df_train['Item_Visibility'] == 0)\n",
    "print(sum(miss_bool))\n",
    "\n",
    "df_train.loc[miss_bool,'Item_Visibility'] = df_train.loc[miss_bool,'Item_Identifier'].apply(lambda x: visibility_avg[x])\n",
    "miss_bool = (df_train['Item_Visibility'] == 0)\n",
    "print(sum(miss_bool))"
   ]
  },
  {
   "cell_type": "code",
   "execution_count": 51,
   "metadata": {
    "collapsed": false
   },
   "outputs": [
    {
     "name": "stdout",
     "output_type": "stream",
     "text": [
      "353\n",
      "13\n"
     ]
    }
   ],
   "source": [
    "visibility_avg_test = df_test.pivot_table(values='Item_Visibility', index='Item_Identifier')\n",
    "# print(visibility_avg)\n",
    "#Impute 0 values with mean visibility of that product:\n",
    "miss_bool_test = (df_test['Item_Visibility'] == 0)\n",
    "print(sum(miss_bool_test))\n",
    "\n",
    "df_test.loc[miss_bool_test,'Item_Visibility'] = df_test.loc[miss_bool_test,'Item_Identifier'].apply(lambda x: visibility_avg_test[x])\n",
    "miss_bool_test = (df_test['Item_Visibility'] == 0)\n",
    "print(sum(miss_bool_test))"
   ]
  },
  {
   "cell_type": "code",
   "execution_count": 52,
   "metadata": {
    "collapsed": false
   },
   "outputs": [
    {
     "data": {
      "text/html": [
       "<div>\n",
       "<table border=\"1\" class=\"dataframe\">\n",
       "  <thead>\n",
       "    <tr style=\"text-align: right;\">\n",
       "      <th></th>\n",
       "      <th>Item_Weight</th>\n",
       "      <th>Item_Visibility</th>\n",
       "      <th>Item_MRP</th>\n",
       "      <th>Outlet_Establishment_Year</th>\n",
       "    </tr>\n",
       "  </thead>\n",
       "  <tbody>\n",
       "    <tr>\n",
       "      <th>count</th>\n",
       "      <td>4705.000000</td>\n",
       "      <td>5681.000000</td>\n",
       "      <td>5681.000000</td>\n",
       "      <td>5681.000000</td>\n",
       "    </tr>\n",
       "    <tr>\n",
       "      <th>mean</th>\n",
       "      <td>12.695633</td>\n",
       "      <td>0.068711</td>\n",
       "      <td>141.023273</td>\n",
       "      <td>1997.828903</td>\n",
       "    </tr>\n",
       "    <tr>\n",
       "      <th>std</th>\n",
       "      <td>4.664849</td>\n",
       "      <td>0.049557</td>\n",
       "      <td>61.809091</td>\n",
       "      <td>8.372256</td>\n",
       "    </tr>\n",
       "    <tr>\n",
       "      <th>min</th>\n",
       "      <td>4.555000</td>\n",
       "      <td>0.000000</td>\n",
       "      <td>31.990000</td>\n",
       "      <td>1985.000000</td>\n",
       "    </tr>\n",
       "    <tr>\n",
       "      <th>25%</th>\n",
       "      <td>8.645000</td>\n",
       "      <td>0.030436</td>\n",
       "      <td>94.412000</td>\n",
       "      <td>1987.000000</td>\n",
       "    </tr>\n",
       "    <tr>\n",
       "      <th>50%</th>\n",
       "      <td>12.500000</td>\n",
       "      <td>0.056474</td>\n",
       "      <td>141.415400</td>\n",
       "      <td>1999.000000</td>\n",
       "    </tr>\n",
       "    <tr>\n",
       "      <th>75%</th>\n",
       "      <td>16.700000</td>\n",
       "      <td>0.094690</td>\n",
       "      <td>186.026600</td>\n",
       "      <td>2004.000000</td>\n",
       "    </tr>\n",
       "    <tr>\n",
       "      <th>max</th>\n",
       "      <td>21.350000</td>\n",
       "      <td>0.323637</td>\n",
       "      <td>266.588400</td>\n",
       "      <td>2009.000000</td>\n",
       "    </tr>\n",
       "  </tbody>\n",
       "</table>\n",
       "</div>"
      ],
      "text/plain": [
       "       Item_Weight  Item_Visibility     Item_MRP  Outlet_Establishment_Year\n",
       "count  4705.000000      5681.000000  5681.000000                5681.000000\n",
       "mean     12.695633         0.068711   141.023273                1997.828903\n",
       "std       4.664849         0.049557    61.809091                   8.372256\n",
       "min       4.555000         0.000000    31.990000                1985.000000\n",
       "25%       8.645000         0.030436    94.412000                1987.000000\n",
       "50%      12.500000         0.056474   141.415400                1999.000000\n",
       "75%      16.700000         0.094690   186.026600                2004.000000\n",
       "max      21.350000         0.323637   266.588400                2009.000000"
      ]
     },
     "execution_count": 52,
     "metadata": {},
     "output_type": "execute_result"
    }
   ],
   "source": [
    "df_test.describe()"
   ]
  },
  {
   "cell_type": "code",
   "execution_count": 53,
   "metadata": {
    "collapsed": false
   },
   "outputs": [
    {
     "name": "stdout",
     "output_type": "stream",
     "text": [
      "['Low Fat' 'Regular' 'low fat' 'LF' 'reg']\n"
     ]
    }
   ],
   "source": [
    "print(df_train['Item_Fat_Content'].unique())\n",
    "\n",
    "df_train['Item_Fat_Content'] = df_train['Item_Fat_Content'].replace(['low fat','Low Fat'], 'LF')\n",
    "df_train['Item_Fat_Content'] = df_train['Item_Fat_Content'].replace(['Regular'], 'reg')\n",
    "\n",
    "# def convert_fat(x):\n",
    "#     if x == 'LF':\n",
    "#         return 1\n",
    "#     else:\n",
    "#         return 0\n",
    "    \n",
    "# print(df_train['Item_Fat_Content'].unique())\n",
    "# df_train['Item_Fat_Content'] = df_train['Item_Fat_Content'].apply(convert_fat)\n",
    "\n",
    "# print(df_train.dtypes)"
   ]
  },
  {
   "cell_type": "code",
   "execution_count": 54,
   "metadata": {
    "collapsed": false
   },
   "outputs": [
    {
     "name": "stdout",
     "output_type": "stream",
     "text": [
      "['Low Fat' 'reg' 'Regular' 'LF' 'low fat']\n"
     ]
    }
   ],
   "source": [
    "print(df_test['Item_Fat_Content'].unique())\n",
    "\n",
    "df_test['Item_Fat_Content'] = df_test['Item_Fat_Content'].replace(['low fat','Low Fat'], 'LF')\n",
    "df_test['Item_Fat_Content'] = df_test['Item_Fat_Content'].replace(['Regular'], 'reg')\n",
    "\n",
    "# def convert_fat(x):\n",
    "#     if x == 'LF':\n",
    "#         return 1\n",
    "#     else:\n",
    "#         return 0\n",
    "    \n",
    "# print(df_test['Item_Fat_Content'].unique())\n",
    "# df_test['Item_Fat_Content'] = df_test['Item_Fat_Content'].apply(convert_fat)\n",
    "\n",
    "# print(df_test.dtypes)"
   ]
  },
  {
   "cell_type": "code",
   "execution_count": 55,
   "metadata": {
    "collapsed": false
   },
   "outputs": [
    {
     "data": {
      "text/plain": [
       "FDG33    10\n",
       "FDW13    10\n",
       "FDQ40     9\n",
       "FDF52     9\n",
       "FDX31     9\n",
       "NCB18     9\n",
       "FDX04     9\n",
       "NCY18     9\n",
       "NCQ06     9\n",
       "DRE49     9\n",
       "FDU12     9\n",
       "DRN47     9\n",
       "FDX20     9\n",
       "FDV38     9\n",
       "FDP25     9\n",
       "NCL31     9\n",
       "FDG09     9\n",
       "FDO19     9\n",
       "NCJ30     9\n",
       "NCI54     9\n",
       "FDW49     9\n",
       "FDW26     9\n",
       "FDV60     9\n",
       "FDD38     9\n",
       "NCF42     9\n",
       "FDT07     9\n",
       "FDF56     9\n",
       "FDW48     8\n",
       "FDX50     8\n",
       "FDG57     8\n",
       "         ..\n",
       "NCS41     2\n",
       "NCC55     2\n",
       "FDP15     2\n",
       "FDE39     2\n",
       "DRE01     2\n",
       "DRG25     2\n",
       "FDE38     2\n",
       "NCG19     2\n",
       "NCV18     2\n",
       "FDM38     2\n",
       "FDH22     2\n",
       "FDA48     2\n",
       "FDU09     2\n",
       "NCW05     2\n",
       "FDW58     2\n",
       "FDW10     2\n",
       "FDB47     2\n",
       "FDG28     2\n",
       "FDT33     2\n",
       "NCM42     2\n",
       "FDR03     2\n",
       "FDQ60     1\n",
       "DRF48     1\n",
       "FDO33     1\n",
       "FDY43     1\n",
       "FDC23     1\n",
       "FDE52     1\n",
       "FDN52     1\n",
       "FDT35     1\n",
       "FDK57     1\n",
       "Name: Item_Identifier, dtype: int64"
      ]
     },
     "execution_count": 55,
     "metadata": {},
     "output_type": "execute_result"
    }
   ],
   "source": [
    "df_train['Item_Identifier'].value_counts()"
   ]
  },
  {
   "cell_type": "code",
   "execution_count": 56,
   "metadata": {
    "collapsed": false
   },
   "outputs": [
    {
     "data": {
      "text/plain": [
       "Food              6125\n",
       "Non-Consumable    1599\n",
       "Drinks             799\n",
       "Name: Item_Type_Combined, dtype: int64"
      ]
     },
     "execution_count": 56,
     "metadata": {},
     "output_type": "execute_result"
    }
   ],
   "source": [
    "# for val in df_train['Item_Identifier']:\n",
    "#     print(val[0:2])\n",
    "\n",
    "def combined(x):\n",
    "    return x[0:2]\n",
    "\n",
    "df_train['Item_Type_Combined'] = df_train['Item_Identifier'].apply(combined)\n",
    "\n",
    "df_train['Item_Type_Combined'] = df_train['Item_Type_Combined'].map({'FD':'Food',\n",
    "                                                                     'NC':'Non-Consumable',\n",
    "                                                                     'DR':'Drinks'})\n",
    "\n",
    "df_train['Item_Type_Combined'].value_counts()"
   ]
  },
  {
   "cell_type": "code",
   "execution_count": 57,
   "metadata": {
    "collapsed": false
   },
   "outputs": [
    {
     "data": {
      "text/plain": [
       "Food              4076\n",
       "Non-Consumable    1087\n",
       "Drinks             518\n",
       "Name: Item_Type_Combined, dtype: int64"
      ]
     },
     "execution_count": 57,
     "metadata": {},
     "output_type": "execute_result"
    }
   ],
   "source": [
    "# for val in df_train['Item_Identifier']:\n",
    "#     print(val[0:2])\n",
    "\n",
    "def combined(x):\n",
    "    return x[0:2]\n",
    "\n",
    "df_test['Item_Type_Combined'] = df_test['Item_Identifier'].apply(combined)\n",
    "\n",
    "df_test['Item_Type_Combined'] = df_test['Item_Type_Combined'].map({'FD':'Food',\n",
    "                                                                     'NC':'Non-Consumable',\n",
    "                                                                     'DR':'Drinks'})\n",
    "\n",
    "df_test['Item_Type_Combined'].value_counts()"
   ]
  },
  {
   "cell_type": "code",
   "execution_count": 58,
   "metadata": {
    "collapsed": false
   },
   "outputs": [
    {
     "data": {
      "text/plain": [
       "count    8523.000000\n",
       "mean       15.168133\n",
       "std         8.371760\n",
       "min         4.000000\n",
       "25%         9.000000\n",
       "50%        14.000000\n",
       "75%        26.000000\n",
       "max        28.000000\n",
       "Name: Outlet_Years, dtype: float64"
      ]
     },
     "execution_count": 58,
     "metadata": {},
     "output_type": "execute_result"
    }
   ],
   "source": [
    "df_train['Outlet_Years'] = 2013 - df_train['Outlet_Establishment_Year']\n",
    "df_train['Outlet_Years'].describe()"
   ]
  },
  {
   "cell_type": "code",
   "execution_count": 59,
   "metadata": {
    "collapsed": false
   },
   "outputs": [
    {
     "data": {
      "text/plain": [
       "count    5681.000000\n",
       "mean       15.171097\n",
       "std         8.372256\n",
       "min         4.000000\n",
       "25%         9.000000\n",
       "50%        14.000000\n",
       "75%        26.000000\n",
       "max        28.000000\n",
       "Name: Outlet_Years, dtype: float64"
      ]
     },
     "execution_count": 59,
     "metadata": {},
     "output_type": "execute_result"
    }
   ],
   "source": [
    "df_test['Outlet_Years'] = 2013 - df_test['Outlet_Establishment_Year']\n",
    "df_test['Outlet_Years'].describe()"
   ]
  },
  {
   "cell_type": "code",
   "execution_count": 60,
   "metadata": {
    "collapsed": false
   },
   "outputs": [
    {
     "data": {
      "text/plain": [
       "LF            3918\n",
       "reg           3006\n",
       "Non-Edible    1599\n",
       "Name: Item_Fat_Content, dtype: int64"
      ]
     },
     "execution_count": 60,
     "metadata": {},
     "output_type": "execute_result"
    }
   ],
   "source": [
    "df_train.loc[df_train['Item_Type_Combined']==\"Non-Consumable\",'Item_Fat_Content'] = \"Non-Edible\"\n",
    "df_train['Item_Fat_Content'].value_counts()"
   ]
  },
  {
   "cell_type": "code",
   "execution_count": 61,
   "metadata": {
    "collapsed": false
   },
   "outputs": [
    {
     "data": {
      "text/plain": [
       "LF            2581\n",
       "reg           2013\n",
       "Non-Edible    1087\n",
       "Name: Item_Fat_Content, dtype: int64"
      ]
     },
     "execution_count": 61,
     "metadata": {},
     "output_type": "execute_result"
    }
   ],
   "source": [
    "df_test.loc[df_test['Item_Type_Combined']==\"Non-Consumable\",'Item_Fat_Content'] = \"Non-Edible\"\n",
    "df_test['Item_Fat_Content'].value_counts()"
   ]
  },
  {
   "cell_type": "code",
   "execution_count": 62,
   "metadata": {
    "collapsed": false
   },
   "outputs": [],
   "source": [
    "#New variable for outlet\n",
    "df_train['Outlet'] = le.fit_transform(df_train['Outlet_Identifier'])\n",
    "# df_train"
   ]
  },
  {
   "cell_type": "code",
   "execution_count": 63,
   "metadata": {
    "collapsed": true
   },
   "outputs": [],
   "source": [
    "#New variable for outlet\n",
    "df_test['Outlet'] = le.fit_transform(df_test['Outlet_Identifier'])\n",
    "# df_train"
   ]
  },
  {
   "cell_type": "code",
   "execution_count": 64,
   "metadata": {
    "collapsed": false
   },
   "outputs": [],
   "source": [
    "df_train['Outlet_Size'].unique()\n",
    "\n",
    "def convert_Outlet_Size(x):\n",
    "    if x == 'Small':\n",
    "        return 1\n",
    "    elif x == 'Medium':\n",
    "        return 2\n",
    "    elif x == 'High':\n",
    "        return 3\n",
    "\n",
    "df_train['Outlet_Size'] = df_train['Outlet_Size'].apply(convert_Outlet_Size)\n",
    "# print(df_train.dtypes)"
   ]
  },
  {
   "cell_type": "code",
   "execution_count": 65,
   "metadata": {
    "collapsed": false
   },
   "outputs": [],
   "source": [
    "df_test['Outlet_Size'].unique()\n",
    "\n",
    "def convert_Outlet_Size(x):\n",
    "    if x == 'Small':\n",
    "        return 1\n",
    "    elif x == 'Medium':\n",
    "        return 2\n",
    "    elif x == 'High':\n",
    "        return 3\n",
    "\n",
    "df_test['Outlet_Size'] = df_test['Outlet_Size'].apply(convert_Outlet_Size)\n",
    "# print(df_test.dtypes)"
   ]
  },
  {
   "cell_type": "code",
   "execution_count": 66,
   "metadata": {
    "collapsed": false
   },
   "outputs": [],
   "source": [
    "df_train['Outlet_Location_Type'].unique()\n",
    "\n",
    "def convert_Outlet_Location_Type(x):\n",
    "    if x == 'Tier 1':\n",
    "        return 1\n",
    "    elif x == 'Tier 2':\n",
    "        return 2\n",
    "    elif x == 'Tier 3':\n",
    "        return 3\n",
    "\n",
    "df_train['Outlet_Location_Type'] = df_train['Outlet_Location_Type'].apply(convert_Outlet_Location_Type)\n",
    "# print(df_train.dtypes)"
   ]
  },
  {
   "cell_type": "code",
   "execution_count": 67,
   "metadata": {
    "collapsed": false
   },
   "outputs": [],
   "source": [
    "df_test['Outlet_Location_Type'].unique()\n",
    "\n",
    "def convert_Outlet_Location_Type(x):\n",
    "    if x == 'Tier 1':\n",
    "        return 1\n",
    "    elif x == 'Tier 2':\n",
    "        return 2\n",
    "    elif x == 'Tier 3':\n",
    "        return 3\n",
    "\n",
    "df_test['Outlet_Location_Type'] = df_test['Outlet_Location_Type'].apply(convert_Outlet_Location_Type)\n",
    "# print(df_test.dtypes)"
   ]
  },
  {
   "cell_type": "code",
   "execution_count": 68,
   "metadata": {
    "collapsed": false
   },
   "outputs": [],
   "source": [
    "df_train['Outlet_Type'].unique()\n",
    "\n",
    "def convert_Outlet_Type(x):\n",
    "    if x == 'Supermarket Type1':\n",
    "        return 1\n",
    "    elif x == 'Supermarket Type2':\n",
    "        return 2\n",
    "    elif x == 'Supermarket Type3':\n",
    "        return 3\n",
    "    elif x == 'Grocery Store':\n",
    "        return 4\n",
    "    \n",
    "\n",
    "df_train['Outlet_Type'] = df_train['Outlet_Type'].apply(convert_Outlet_Type)\n",
    "# print(df_train.dtypes)"
   ]
  },
  {
   "cell_type": "code",
   "execution_count": 69,
   "metadata": {
    "collapsed": false
   },
   "outputs": [],
   "source": [
    "df_test['Outlet_Type'].unique()\n",
    "\n",
    "def convert_Outlet_Type(x):\n",
    "    if x == 'Supermarket Type1':\n",
    "        return 1\n",
    "    elif x == 'Supermarket Type2':\n",
    "        return 2\n",
    "    elif x == 'Supermarket Type3':\n",
    "        return 3\n",
    "    elif x == 'Grocery Store':\n",
    "        return 4\n",
    "    \n",
    "\n",
    "df_test['Outlet_Type'] = df_test['Outlet_Type'].apply(convert_Outlet_Type)\n",
    "# print(df_test.dtypes)"
   ]
  },
  {
   "cell_type": "code",
   "execution_count": 70,
   "metadata": {
    "collapsed": false
   },
   "outputs": [],
   "source": [
    "df_train['Item_Type_New'] = le.fit_transform(df_train['Item_Type'])\n",
    "# print(df_train.dtypes)\n",
    "# df_train\n",
    "df_test['Item_Type_New'] = le.fit_transform(df_test['Item_Type'])"
   ]
  },
  {
   "cell_type": "code",
   "execution_count": 71,
   "metadata": {
    "collapsed": false
   },
   "outputs": [],
   "source": [
    "df_train['Item_Fat_Content'] = le.fit_transform(df_train['Item_Fat_Content'])\n",
    "# print(df_train.dtypes)\n",
    "# df_train\n",
    "df_test['Item_Fat_Content'] = le.fit_transform(df_test['Item_Fat_Content'])"
   ]
  },
  {
   "cell_type": "code",
   "execution_count": 72,
   "metadata": {
    "collapsed": false
   },
   "outputs": [],
   "source": [
    "df_train['Item_Type_Combined'] = le.fit_transform(df_train['Item_Type_Combined'])\n",
    "# print(df_train.dtypes)\n",
    "# df_train\n",
    "df_test['Item_Type_Combined'] = le.fit_transform(df_test['Item_Type_Combined'])"
   ]
  },
  {
   "cell_type": "code",
   "execution_count": 73,
   "metadata": {
    "collapsed": false
   },
   "outputs": [
    {
     "data": {
      "text/plain": [
       "[]"
      ]
     },
     "execution_count": 73,
     "metadata": {},
     "output_type": "execute_result"
    }
   ],
   "source": [
    "# Filling NaN values , imputing using mean, mode TRAIN\n",
    " \n",
    "df_train['Item_Weight'] = df_train['Item_Weight'].fillna(df_train['Item_Weight'].mean())\n",
    "\n",
    "df_train['Outlet_Size'] = df_train['Outlet_Size'].fillna(df_train['Outlet_Size'].mode()[0])\n",
    "\n",
    "l =  df_train.columns[df_train.isnull().any()].tolist()\n",
    "l"
   ]
  },
  {
   "cell_type": "code",
   "execution_count": 74,
   "metadata": {
    "collapsed": false
   },
   "outputs": [
    {
     "data": {
      "text/plain": [
       "[]"
      ]
     },
     "execution_count": 74,
     "metadata": {},
     "output_type": "execute_result"
    }
   ],
   "source": [
    "# Filling NaN values, imputing using mean, mode TEST\n",
    "\n",
    "df_test['Item_Weight'] = df_test['Item_Weight'].fillna(df_test['Item_Weight'].mean())\n",
    "\n",
    "df_test['Outlet_Size'] = df_test['Outlet_Size'].fillna(df_test['Outlet_Size'].mode()[0])\n",
    "\n",
    "l =  df_test.columns[df_test.isnull().any()].tolist()\n",
    "l\n"
   ]
  },
  {
   "cell_type": "code",
   "execution_count": 75,
   "metadata": {
    "collapsed": false
   },
   "outputs": [
    {
     "data": {
      "text/plain": [
       "Item_Identifier               object\n",
       "Item_Weight                  float64\n",
       "Item_Fat_Content               int64\n",
       "Item_Visibility              float64\n",
       "Item_Type                     object\n",
       "Item_MRP                     float64\n",
       "Outlet_Identifier             object\n",
       "Outlet_Establishment_Year      int64\n",
       "Outlet_Size                  float64\n",
       "Outlet_Location_Type           int64\n",
       "Outlet_Type                    int64\n",
       "Item_Outlet_Sales            float64\n",
       "Item_Type_Combined             int64\n",
       "Outlet_Years                   int64\n",
       "Outlet                         int64\n",
       "Item_Type_New                  int64\n",
       "dtype: object"
      ]
     },
     "execution_count": 75,
     "metadata": {},
     "output_type": "execute_result"
    }
   ],
   "source": [
    "df_train.dtypes\n",
    "# Item_Identifier -> Item_Type_Combined\n",
    "# Outlet_Identifier -> Outlet"
   ]
  },
  {
   "cell_type": "code",
   "execution_count": 76,
   "metadata": {
    "collapsed": false
   },
   "outputs": [
    {
     "data": {
      "text/plain": [
       "Item_Identifier               object\n",
       "Item_Weight                  float64\n",
       "Item_Fat_Content               int64\n",
       "Item_Visibility              float64\n",
       "Item_Type                     object\n",
       "Item_MRP                     float64\n",
       "Outlet_Identifier             object\n",
       "Outlet_Establishment_Year      int64\n",
       "Outlet_Size                  float64\n",
       "Outlet_Location_Type           int64\n",
       "Outlet_Type                    int64\n",
       "Item_Type_Combined             int64\n",
       "Outlet_Years                   int64\n",
       "Outlet                         int64\n",
       "Item_Type_New                  int64\n",
       "dtype: object"
      ]
     },
     "execution_count": 76,
     "metadata": {},
     "output_type": "execute_result"
    }
   ],
   "source": [
    "df_test.dtypes"
   ]
  },
  {
   "cell_type": "code",
   "execution_count": 77,
   "metadata": {
    "collapsed": false
   },
   "outputs": [
    {
     "name": "stdout",
     "output_type": "stream",
     "text": [
      "['Item_Weight', 'Item_Fat_Content', 'Item_Visibility', 'Item_MRP', 'Outlet_Establishment_Year', 'Outlet_Size', 'Outlet_Location_Type', 'Outlet_Type', 'Item_Type_Combined', 'Outlet_Years', 'Outlet', 'Item_Type_New']\n"
     ]
    }
   ],
   "source": [
    "features = df_train.columns.tolist()\n",
    "\n",
    "# Identifiers not to be used \n",
    "features.remove('Item_Identifier')\n",
    "features.remove('Outlet_Identifier')\n",
    "features.remove('Item_Type') # transformed \n",
    "features.remove('Item_Outlet_Sales') # To be Predicted \n",
    "\n",
    "# Contains all features \n",
    "print(features)"
   ]
  },
  {
   "cell_type": "code",
   "execution_count": 125,
   "metadata": {
    "collapsed": false
   },
   "outputs": [
    {
     "data": {
      "text/plain": [
       "<matplotlib.axes._subplots.AxesSubplot at 0x7ff3f84dfc88>"
      ]
     },
     "execution_count": 125,
     "metadata": {},
     "output_type": "execute_result"
    },
    {
     "data": {
      "image/png": "[encoded data removed]",
      "text/plain": [
       "<matplotlib.figure.Figure at 0x7ff3f85dc9b0>"
      ]
     },
     "metadata": {},
     "output_type": "display_data"
    }
   ],
   "source": [
    "sns.heatmap(df_train.corr())"
   ]
  },
  {
   "cell_type": "code",
   "execution_count": 89,
   "metadata": {
    "collapsed": false
   },
   "outputs": [
    {
     "name": "stdout",
     "output_type": "stream",
     "text": [
      "6\n"
     ]
    }
   ],
   "source": [
    "# # Based on model feature importance of RF and GBR calculated later \n",
    "features_gbr = ['Item_MRP', 'Item_Visibility', 'Item_Weight', \n",
    "            'Outlet_Type', 'Outlet', 'Outlet_Years',]\n",
    "print(len(features_gbr))    "
   ]
  },
  {
   "cell_type": "code",
   "execution_count": 88,
   "metadata": {
    "collapsed": false
   },
   "outputs": [
    {
     "data": {
      "image/png": "[encoded data removed]",
      "text/plain": [
       "<matplotlib.figure.Figure at 0x7ff3ff6e2358>"
      ]
     },
     "metadata": {},
     "output_type": "display_data"
    },
    {
     "data": {
      "text/plain": [
       "['Item_Visibility',\n",
       " 'Item_MRP',\n",
       " 'Outlet_Size',\n",
       " 'Outlet_Type',\n",
       " 'Outlet_Years',\n",
       " 'Outlet']"
      ]
     },
     "execution_count": 88,
     "metadata": {},
     "output_type": "execute_result"
    }
   ],
   "source": [
    "from sklearn.feature_selection import SelectKBest, f_classif, f_regression\n",
    "\n",
    "# Perform feature selection\n",
    "selector = SelectKBest(f_regression, k=7)\n",
    "selector.fit(df_train[features], df_train['Item_Outlet_Sales'])\n",
    "\n",
    "# Get the raw p-values for each feature, and transform from p-values into scores\n",
    "scores = -np.log10(selector.pvalues_)\n",
    "\n",
    "# Plot the scores for each feature \n",
    "plt.bar(range(len(features)), scores)\n",
    "plt.xticks(range(len(features)), features, rotation='vertical')\n",
    "plt.title('K Best Features')\n",
    "plt.show()\n",
    "\n",
    "selector.fit(df_train[features], df_train['Item_Outlet_Sales'])\n",
    "#print b.get_params\n",
    "\n",
    "# Returns boolean valued array\n",
    "l = list(selector.get_support())\n",
    "l\n",
    "\n",
    "features_new = []\n",
    "\n",
    "for i in range(len(l)):\n",
    "    if l[i] == True:\n",
    "        features_new.append(features[i])\n",
    "        \n",
    "# Contains K best selected features\n",
    "features_new.remove('Outlet_Location_Type')\n",
    "features_new"
   ]
  },
  {
   "cell_type": "code",
   "execution_count": 112,
   "metadata": {
    "collapsed": false
   },
   "outputs": [
    {
     "data": {
      "text/plain": [
       "<matplotlib.axes._subplots.AxesSubplot at 0x7ff3faacf9e8>"
      ]
     },
     "execution_count": 112,
     "metadata": {},
     "output_type": "execute_result"
    },
    {
     "data": {
      "image/png": "[encoded data removed]",
      "text/plain": [
       "<matplotlib.figure.Figure at 0x7ff3fac23fd0>"
      ]
     },
     "metadata": {},
     "output_type": "display_data"
    }
   ],
   "source": [
    "sns.heatmap(df_train[features_new].corr())"
   ]
  },
  {
   "cell_type": "code",
   "execution_count": 123,
   "metadata": {
    "collapsed": false
   },
   "outputs": [
    {
     "data": {
      "text/plain": [
       "['Outlet_Type',\n",
       " 'Item_MRP',\n",
       " 'Outlet_Years',\n",
       " 'Outlet_Size',\n",
       " 'Item_Visibility',\n",
       " 'Outlet']"
      ]
     },
     "execution_count": 123,
     "metadata": {},
     "output_type": "execute_result"
    }
   ],
   "source": [
    "# Found out using XGB Feature importance\n",
    "features_xgb = ['Outlet_Type', 'Item_MRP', 'Outlet_Years', 'Outlet_Size',\n",
    "                'Item_Visibility', 'Outlet']\n",
    "features_xgb"
   ]
  },
  {
   "cell_type": "code",
   "execution_count": 124,
   "metadata": {
    "collapsed": false
   },
   "outputs": [
    {
     "data": {
      "text/plain": [
       "<matplotlib.axes._subplots.AxesSubplot at 0x7ff3f87045c0>"
      ]
     },
     "execution_count": 124,
     "metadata": {},
     "output_type": "execute_result"
    },
    {
     "data": {
      "image/png": "[encoded data removed]",
      "text/plain": [
       "<matplotlib.figure.Figure at 0x7ff3f88c86d8>"
      ]
     },
     "metadata": {},
     "output_type": "display_data"
    }
   ],
   "source": [
    "sns.heatmap(df_train[features_xgb].corr())\n",
    "# features_xgb.remove('Outlet_Size')"
   ]
  },
  {
   "cell_type": "code",
   "execution_count": 116,
   "metadata": {
    "collapsed": false
   },
   "outputs": [
    {
     "name": "stdout",
     "output_type": "stream",
     "text": [
      "1080.45288055\n"
     ]
    }
   ],
   "source": [
    "from sklearn.ensemble import RandomForestRegressor\n",
    "from sklearn.ensemble import GradientBoostingRegressor\n",
    "from sklearn.metrics import mean_squared_error\n",
    "from sklearn.cross_validation import KFold\n",
    "from sklearn.cross_validation import cross_val_score\n",
    "\n",
    "import xgboost as xgb\n",
    "\n",
    "# model = RandomForestRegressor(random_state = 1, n_estimators =500 , min_samples_split = 8, min_samples_leaf = 4)\n",
    "\n",
    "# model = GradientBoostingRegressor(random_state = 1, n_estimators = 100, min_samples_split = 8, min_samples_leaf = 4, learning_rate = 0.1)\n",
    "\n",
    "model = xgb.XGBRegressor(n_estimators = 80, gamma=0.2, learning_rate=0.1)\n",
    "\n",
    "model.fit(df_train[features_xgb], df_train['Item_Outlet_Sales'])\n",
    "predictions = model.predict(df_test[features_xgb])\n",
    "predictions = predictions.astype(int)\n",
    "\n",
    "# K Fold cross validation \n",
    "kf = KFold(len(df_train), 5, shuffle=True, random_state=8)\n",
    "errors = cross_val_score(model, df_train[features_xgb], df_train['Item_Outlet_Sales'], scoring='neg_mean_squared_error', cv=kf)\n",
    "\n",
    "print(np.sqrt(abs(np.mean(errors))))\n",
    "# print(np.mean(errors))\n",
    "\n",
    "sub = pd.DataFrame({'Item_Identifier': df_test['Item_Identifier'], 'Outlet_Identifier': df_test['Outlet_Identifier'], 'Item_Outlet_Sales':predictions})\n",
    "sub.to_csv('./output.csv', index=False)"
   ]
  },
  {
   "cell_type": "code",
   "execution_count": 82,
   "metadata": {
    "collapsed": false
   },
   "outputs": [
    {
     "data": {
      "image/png": "[encoded data removed]",
      "text/plain": [
       "<matplotlib.figure.Figure at 0x7ff3f8b187f0>"
      ]
     },
     "metadata": {},
     "output_type": "display_data"
    }
   ],
   "source": [
    "# # Feature importance XGB for all features \n",
    "from xgboost import plot_importance\n",
    "plot_importance(model, importance_type=\"gain\")\n",
    "pyplot.title(\"XGBoost Feature Imp\")\n",
    "pyplot.show()"
   ]
  },
  {
   "cell_type": "code",
   "execution_count": 87,
   "metadata": {
    "collapsed": false
   },
   "outputs": [
    {
     "data": {
      "image/png": "[encoded data removed]",
      "text/plain": [
       "<matplotlib.figure.Figure at 0x7ff3faad4dd8>"
      ]
     },
     "metadata": {},
     "output_type": "display_data"
    }
   ],
   "source": [
    "# Feature importance for RF and GBR all features\n",
    "\n",
    "feature_importance = model.feature_importances_\n",
    "# # make importances relative to max importance\n",
    "# # feature_importance = 100.0 * (feature_importance / feature_importance.max())\n",
    "sorted_idx = np.argsort(feature_importance)\n",
    "pos = np.arange(sorted_idx.shape[0]) + 1\n",
    "plt.figure(figsize=(12, 6))\n",
    "plt.subplot(1, 1, 1)\n",
    "plt.barh(pos, feature_importance[sorted_idx], align='center')\n",
    "plt.yticks(pos, df_train[features][sorted_idx])\n",
    "# plt.xlabel('Relative Importance')\n",
    "plt.title('Variable Importance')\n",
    "plt.show()"
   ]
  },
  {
   "cell_type": "code",
   "execution_count": 84,
   "metadata": {
    "collapsed": false
   },
   "outputs": [],
   "source": [
    "# sns.lmplot(x='Item_MRP', y='Item_Outlet_Sales', data=df_train)"
   ]
  }
 ],
 "metadata": {
  "anaconda-cloud": {},
  "kernelspec": {
   "display_name": "Python 3",
   "language": "python",
   "name": "python3"
  },
  "language_info": {
   "codemirror_mode": {
    "name": "ipython",
    "version": 3
   },
   "file_extension": ".py",
   "mimetype": "text/x-python",
   "name": "python",
   "nbconvert_exporter": "python",
   "pygments_lexer": "ipython3",
   "version": "3.6.0"
  }
 },
 "nbformat": 4,
 "nbformat_minor": 1
}
